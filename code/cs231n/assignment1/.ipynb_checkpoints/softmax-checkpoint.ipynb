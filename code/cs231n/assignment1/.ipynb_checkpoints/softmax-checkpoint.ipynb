{
 "cells": [
  {
   "cell_type": "code",
   "execution_count": 3,
   "metadata": {},
   "outputs": [
    {
     "name": "stdout",
     "output_type": "stream",
     "text": [
      "The autoreload extension is already loaded. To reload it, use:\n",
      "  %reload_ext autoreload\n"
     ]
    }
   ],
   "source": [
    "import random\n",
    "import numpy as np\n",
    "from cs231n.data_utils import load_CIFAR10\n",
    "import matplotlib.pyplot as plt\n",
    "\n",
    "from __future__ import print_function\n",
    "\n",
    "%matplotlib inline\n",
    "plt.rcParams['figure.figsize'] = (10.0, 8.0) # set default size of plots\n",
    "plt.rcParams['image.interpolation'] = 'nearest'\n",
    "plt.rcParams['image.cmap'] = 'gray'\n",
    "\n",
    "%load_ext autoreload\n",
    "%autoreload 2"
   ]
  },
  {
   "cell_type": "code",
   "execution_count": 4,
   "metadata": {},
   "outputs": [
    {
     "name": "stdout",
     "output_type": "stream",
     "text": [
      "Train data shape:  (49000, 3073)\n",
      "Train labels shape:  (49000,)\n",
      "Validation data shape:  (1000, 3073)\n",
      "Validation labels shape:  (1000,)\n",
      "Test data shape:  (1000, 3073)\n",
      "Test labels shape:  (1000,)\n",
      "dev data shape:  (500, 3073)\n",
      "dev labels shape:  (500,)\n"
     ]
    }
   ],
   "source": [
    "def get_CIFAR10_data(num_training=49000, num_val=1000, num_test=1000, num_dev=500):\n",
    "    cifar10_dir = 'cs231n/datasets/cifar-10-batches-py'\n",
    "    X_train, y_train, X_test, y_test = load_CIFAR10(cifar10_dir)\n",
    "    \n",
    "    mask = np.arange(num_training, num_training+num_val)\n",
    "    X_val = X_train[mask]\n",
    "    y_val = y_train[mask]\n",
    "    mask = np.arange(num_training)\n",
    "    X_train = X_train[mask]\n",
    "    y_train = y_train[mask]\n",
    "    mask = np.arange(num_test)\n",
    "    X_test = X_test[mask]\n",
    "    y_test = y_test[mask]\n",
    "    mask = np.random.choice(num_training, num_dev, replace=False)\n",
    "    X_dev = X_train[mask]\n",
    "    y_dev = y_train[mask]\n",
    "    \n",
    "    X_train = X_train.reshape((X_train.shape[0],-1))\n",
    "    X_val = X_val.reshape((X_val.shape[0],-1))\n",
    "    X_test = X_test.reshape((X_test.shape[0],-1))\n",
    "    X_dev = X_dev.reshape((X_dev.shape[0],-1))\n",
    "    \n",
    "    mean_img = np.mean(X_train, axis=0)\n",
    "    X_train -= mean_img\n",
    "    X_val -= mean_img\n",
    "    X_test -= mean_img\n",
    "    X_dev -= mean_img\n",
    "    \n",
    "    X_train = np.hstack((X_train, np.ones((X_train.shape[0], 1))))\n",
    "    X_val = np.hstack((X_val, np.ones((X_val.shape[0], 1))))\n",
    "    X_test = np.hstack((X_test, np.ones((X_test.shape[0], 1))))\n",
    "    X_dev = np.hstack((X_dev, np.ones((X_dev.shape[0], 1))))\n",
    "    \n",
    "    return X_train, y_train, X_val, y_val, X_test, y_test, X_dev, y_dev\n",
    "\n",
    "    try:\n",
    "       del X_train, y_train\n",
    "       del X_test, y_test\n",
    "       print('Clear previously loaded data.')\n",
    "    except:\n",
    "       pass\n",
    "\n",
    "X_train, y_train, X_val, y_val, X_test, y_test, X_dev, y_dev = get_CIFAR10_data()\n",
    "print('Train data shape: ', X_train.shape)\n",
    "print('Train labels shape: ', y_train.shape)\n",
    "print('Validation data shape: ', X_val.shape)\n",
    "print('Validation labels shape: ', y_val.shape)\n",
    "print('Test data shape: ', X_test.shape)\n",
    "print('Test labels shape: ', y_test.shape)\n",
    "print('dev data shape: ', X_dev.shape)\n",
    "print('dev labels shape: ', y_dev.shape)"
   ]
  },
  {
   "cell_type": "code",
   "execution_count": 5,
   "metadata": {},
   "outputs": [
    {
     "name": "stdout",
     "output_type": "stream",
     "text": [
      "loss: 2.335552\n",
      "sanity check: 2.302585\n",
      "numerical: -0.272258 analytic: -0.272259, relative error: 1.730940e-07\n",
      "numerical: 1.610883 analytic: 1.610883, relative error: 2.820299e-08\n",
      "numerical: -4.121773 analytic: -4.121773, relative error: 4.049360e-09\n",
      "numerical: -0.511019 analytic: -0.511019, relative error: 1.179668e-07\n",
      "numerical: 0.329540 analytic: 0.329540, relative error: 7.765497e-09\n",
      "numerical: 0.406474 analytic: 0.406474, relative error: 3.647645e-08\n",
      "numerical: 1.439669 analytic: 1.439668, relative error: 4.544701e-08\n",
      "numerical: 0.865497 analytic: 0.865497, relative error: 4.697240e-09\n",
      "numerical: 1.384401 analytic: 1.384401, relative error: 3.211594e-08\n",
      "numerical: 0.218452 analytic: 0.218452, relative error: 1.385402e-07\n"
     ]
    }
   ],
   "source": [
    "from cs231n.classifiers.softmax import softmax_loss_naive\n",
    "from cs231n.gradient_check import grad_check_sparse\n",
    "import time\n",
    "\n",
    "W = np.random.randn(3073, 10) * 0.0001\n",
    "loss, grad = softmax_loss_naive(W, X_dev, y_dev, 0)\n",
    "print('loss: %f' % loss)\n",
    "print('sanity check: %f' % (np.log(10)))\n",
    "\n",
    "f = lambda w: softmax_loss_naive(w, X_dev, y_dev, 0)[0]\n",
    "grad_numerical = grad_check_sparse(f, W, grad)"
   ]
  },
  {
   "cell_type": "code",
   "execution_count": 6,
   "metadata": {},
   "outputs": [
    {
     "name": "stdout",
     "output_type": "stream",
     "text": [
      "loss: 2.358530\n",
      "sanity check: 2.302585\n",
      "numerical: 0.233061 analytic: 0.233061, relative error: 9.693452e-08\n",
      "numerical: 1.076624 analytic: 1.076624, relative error: 4.479272e-08\n",
      "numerical: 0.503752 analytic: 0.503752, relative error: 8.706166e-08\n",
      "numerical: -0.248653 analytic: -0.248653, relative error: 7.624903e-08\n",
      "numerical: 1.160039 analytic: 1.160039, relative error: 1.265236e-08\n",
      "numerical: -2.210544 analytic: -2.210544, relative error: 1.374896e-08\n",
      "numerical: -0.423580 analytic: -0.423580, relative error: 5.426503e-08\n",
      "numerical: 0.538028 analytic: 0.538028, relative error: 7.784964e-08\n",
      "numerical: -1.520315 analytic: -1.520315, relative error: 6.694095e-08\n",
      "numerical: 2.722723 analytic: 2.722723, relative error: 4.120231e-10\n"
     ]
    }
   ],
   "source": [
    "W = np.random.randn(3073, 10) * 0.0001\n",
    "loss, grad = softmax_loss_naive(W, X_dev, y_dev, 5e1)\n",
    "print('loss: %f' % loss)\n",
    "print('sanity check: %f' % (np.log(10)))\n",
    "\n",
    "f = lambda w: softmax_loss_naive(w, X_dev, y_dev, 5e1)[0]\n",
    "grad_numerical = grad_check_sparse(f, W, grad)"
   ]
  },
  {
   "cell_type": "code",
   "execution_count": 7,
   "metadata": {},
   "outputs": [
    {
     "name": "stdout",
     "output_type": "stream",
     "text": [
      "loss: 2.343132\n",
      "sanity check: 2.302585\n",
      "numerical: 0.646640 analytic: 0.646640, relative error: 1.314349e-08\n",
      "numerical: -0.994996 analytic: -0.994996, relative error: 3.863588e-08\n",
      "numerical: -0.557622 analytic: -0.557622, relative error: 6.789051e-08\n",
      "numerical: 0.761707 analytic: 0.761707, relative error: 1.101823e-07\n",
      "numerical: 0.417492 analytic: 0.417492, relative error: 2.649655e-09\n",
      "numerical: 1.453960 analytic: 1.453960, relative error: 4.511221e-08\n",
      "numerical: 0.153557 analytic: 0.153557, relative error: 2.228311e-07\n",
      "numerical: 0.443247 analytic: 0.443247, relative error: 2.909782e-08\n",
      "numerical: -0.773126 analytic: -0.773126, relative error: 3.057113e-08\n",
      "numerical: -2.112620 analytic: -2.112620, relative error: 8.797299e-09\n"
     ]
    }
   ],
   "source": [
    "from cs231n.classifiers.softmax import softmax_loss_vectorized\n",
    "\n",
    "loss, grad = softmax_loss_vectorized(W, X_dev, y_dev, 0)\n",
    "print('loss: %f' % loss)\n",
    "print('sanity check: %f' % (np.log(10)))\n",
    "\n",
    "f = lambda w: softmax_loss_vectorized(w, X_dev, y_dev, 0)[0]\n",
    "grad_numerical = grad_check_sparse(f, W, grad)"
   ]
  },
  {
   "cell_type": "code",
   "execution_count": 8,
   "metadata": {},
   "outputs": [
    {
     "name": "stdout",
     "output_type": "stream",
     "text": [
      "loss: 2.358530\n",
      "sanity check: 2.302585\n",
      "numerical: 1.451626 analytic: 1.451626, relative error: 2.375838e-08\n",
      "numerical: 0.143450 analytic: 0.143450, relative error: 6.958209e-08\n",
      "numerical: 3.903430 analytic: 3.903429, relative error: 1.365625e-08\n",
      "numerical: 0.140137 analytic: 0.140137, relative error: 5.167515e-08\n",
      "numerical: 0.655217 analytic: 0.655217, relative error: 9.418514e-09\n",
      "numerical: -1.901482 analytic: -1.901482, relative error: 2.828045e-09\n",
      "numerical: -0.127904 analytic: -0.127904, relative error: 6.915404e-08\n",
      "numerical: 0.933837 analytic: 0.933837, relative error: 6.885038e-09\n",
      "numerical: -2.458807 analytic: -2.458808, relative error: 1.716135e-08\n",
      "numerical: -0.076724 analytic: -0.076724, relative error: 1.031346e-06\n"
     ]
    }
   ],
   "source": [
    "loss, grad = softmax_loss_vectorized(W, X_dev, y_dev, 5e1)\n",
    "print('loss: %f' % loss)\n",
    "print('sanity check: %f' % (np.log(10)))\n",
    "\n",
    "f = lambda w: softmax_loss_vectorized(w, X_dev, y_dev, 5e1)[0]\n",
    "grad_numerical = grad_check_sparse(f, W, grad)"
   ]
  },
  {
   "cell_type": "code",
   "execution_count": 9,
   "metadata": {},
   "outputs": [
    {
     "name": "stdout",
     "output_type": "stream",
     "text": [
      "naive loss: 2.343132e+00 computed in 0.020376s\n",
      "Vectorized loss: 2.343132e+00 computed in 0.006639s\n",
      "Loss difference: 0.000000\n",
      "Gradient difference: 0.000000\n"
     ]
    }
   ],
   "source": [
    "tic = time.time()\n",
    "loss_naive, grads_naive = softmax_loss_naive(W, X_dev, y_dev, 0.000005)\n",
    "toc = time.time()\n",
    "print('naive loss: %e computed in %fs' % (loss_naive, toc - tic))\n",
    "\n",
    "tic = time.time()\n",
    "loss_vec, grads_vec = softmax_loss_vectorized(W, X_dev, y_dev, 0.000005)\n",
    "toc = time.time()\n",
    "print('Vectorized loss: %e computed in %fs' % (loss_vec, toc - tic))\n",
    "print('Loss difference: %f' % np.abs(loss_naive - loss_vec))\n",
    "\n",
    "difference = np.linalg.norm(grads_vec-grads_naive, ord='fro')\n",
    "print('Gradient difference: %f' % difference)"
   ]
  },
  {
   "cell_type": "code",
   "execution_count": 10,
   "metadata": {},
   "outputs": [],
   "source": [
    "from cs231n.classifiers import Softmax"
   ]
  },
  {
   "cell_type": "code",
   "execution_count": 12,
   "metadata": {},
   "outputs": [
    {
     "ename": "NameError",
     "evalue": "name 'svm' is not defined",
     "output_type": "error",
     "traceback": [
      "\u001b[0;31m---------------------------------------------------------------------------\u001b[0m",
      "\u001b[0;31mNameError\u001b[0m                                 Traceback (most recent call last)",
      "\u001b[0;32m<ipython-input-12-d5386369a9c0>\u001b[0m in \u001b[0;36m<module>\u001b[0;34m()\u001b[0m\n\u001b[1;32m     25\u001b[0m         \u001b[0;32mif\u001b[0m \u001b[0mval_acc\u001b[0m \u001b[0;34m>\u001b[0m \u001b[0mbest_val\u001b[0m\u001b[0;34m:\u001b[0m\u001b[0;34m\u001b[0m\u001b[0m\n\u001b[1;32m     26\u001b[0m             \u001b[0mbest_val\u001b[0m \u001b[0;34m=\u001b[0m \u001b[0mval_acc\u001b[0m\u001b[0;34m\u001b[0m\u001b[0m\n\u001b[0;32m---> 27\u001b[0;31m             \u001b[0mbest_svm\u001b[0m \u001b[0;34m=\u001b[0m \u001b[0msvm\u001b[0m\u001b[0;34m\u001b[0m\u001b[0m\n\u001b[0m\u001b[1;32m     28\u001b[0m \u001b[0;34m\u001b[0m\u001b[0m\n\u001b[1;32m     29\u001b[0m \u001b[0;32mfor\u001b[0m \u001b[0;34m(\u001b[0m\u001b[0mlr\u001b[0m\u001b[0;34m,\u001b[0m \u001b[0mreg\u001b[0m\u001b[0;34m)\u001b[0m \u001b[0;32min\u001b[0m \u001b[0msorted\u001b[0m\u001b[0;34m(\u001b[0m\u001b[0mresults\u001b[0m\u001b[0;34m)\u001b[0m\u001b[0;34m:\u001b[0m\u001b[0;34m\u001b[0m\u001b[0m\n",
      "\u001b[0;31mNameError\u001b[0m: name 'svm' is not defined"
     ]
    }
   ],
   "source": [
    "learning_range = [1e-7, 5e-5]\n",
    "regularization_range = [2.5e4, 5e4]\n",
    "\n",
    "results = {}\n",
    "best_val = -1\n",
    "best_softmax = None\n",
    "\n",
    "num_iter = 1500\n",
    "learning_rates = np.linspace(learning_range[0], learning_range[1], 5)\n",
    "regularization_rates = np.linspace(regularization_range[0], regularization_range[1], 5)\n",
    "\n",
    "for lr in learning_rates:\n",
    "    for reg in regularization_rates:\n",
    "        softmax = Softmax()\n",
    "        loss_his = softmax.train(X_train, y_train, learning_rate=lr, reg=reg, num_iters=num_iter, batch_size=200, verbose=False)\n",
    "        \n",
    "        y_train_pred = softmax.predict(X_train)\n",
    "        train_acc = np.mean(y_train_pred==y_train)\n",
    "        \n",
    "        y_val_pred = softmax.predict(X_val)\n",
    "        val_acc = np.mean(y_val_pred==y_val)\n",
    "        \n",
    "        results[(lr, reg)] = (train_acc, val_acc)\n",
    "        \n",
    "        if val_acc > best_val:\n",
    "            best_val = val_acc\n",
    "            best_softmax = softmax\n",
    "\n",
    "for (lr, reg) in sorted(results):\n",
    "    (train_acc, val_acc) = results[(lr, reg)]\n",
    "    print('lr %e reg %e train accuracy: %f val accuracy: %f' % (lr, reg, train_acc, val_acc))\n",
    "        \n",
    "print('best validation accuracy achieved during cross-validation: %f' % best_val) "
   ]
  },
  {
   "cell_type": "code",
   "execution_count": null,
   "metadata": {},
   "outputs": [],
   "source": []
  }
 ],
 "metadata": {
  "kernelspec": {
   "display_name": "Python 3",
   "language": "python",
   "name": "python3"
  },
  "language_info": {
   "codemirror_mode": {
    "name": "ipython",
    "version": 3
   },
   "file_extension": ".py",
   "mimetype": "text/x-python",
   "name": "python",
   "nbconvert_exporter": "python",
   "pygments_lexer": "ipython3",
   "version": "3.6.4"
  }
 },
 "nbformat": 4,
 "nbformat_minor": 2
}
