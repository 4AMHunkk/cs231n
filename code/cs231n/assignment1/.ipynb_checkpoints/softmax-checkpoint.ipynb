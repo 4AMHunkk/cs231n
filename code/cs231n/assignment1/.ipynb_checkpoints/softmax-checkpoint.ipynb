{
 "cells": [
  {
   "cell_type": "code",
   "execution_count": 2,
   "metadata": {},
   "outputs": [
    {
     "name": "stdout",
     "output_type": "stream",
     "text": [
      "The autoreload extension is already loaded. To reload it, use:\n",
      "  %reload_ext autoreload\n"
     ]
    }
   ],
   "source": [
    "import random\n",
    "import numpy as np\n",
    "from cs231n.data_utils import load_CIFAR10\n",
    "import matplotlib.pyplot as plt\n",
    "\n",
    "from __future__ import print_function\n",
    "\n",
    "%matplotlib inline\n",
    "plt.rcParams['figure.figsize'] = (10.0, 8.0) # set default size of plots\n",
    "plt.rcParams['image.interpolation'] = 'nearest'\n",
    "plt.rcParams['image.cmap'] = 'gray'\n",
    "\n",
    "%load_ext autoreload\n",
    "%autoreload 2"
   ]
  },
  {
   "cell_type": "code",
   "execution_count": 7,
   "metadata": {},
   "outputs": [
    {
     "name": "stdout",
     "output_type": "stream",
     "text": [
      "Train data shape:  (49000, 3073)\n",
      "Train labels shape:  (49000,)\n",
      "Validation data shape:  (1000, 3073)\n",
      "Validation labels shape:  (1000,)\n",
      "Test data shape:  (1000, 3073)\n",
      "Test labels shape:  (1000,)\n",
      "dev data shape:  (500, 3073)\n",
      "dev labels shape:  (500,)\n"
     ]
    }
   ],
   "source": [
    "def get_CIFAR10_data(num_training=49000, num_val=1000, num_test=1000, num_dev=500):\n",
    "    cifar10_dir = 'cs231n/datasets/cifar-10-batches-py'\n",
    "    X_train, y_train, X_test, y_test = load_CIFAR10(cifar10_dir)\n",
    "    \n",
    "    mask = np.arange(num_training, num_training+num_val)\n",
    "    X_val = X_train[mask]\n",
    "    y_val = y_train[mask]\n",
    "    mask = np.arange(num_training)\n",
    "    X_train = X_train[mask]\n",
    "    y_train = y_train[mask]\n",
    "    mask = np.arange(num_test)\n",
    "    X_test = X_test[mask]\n",
    "    y_test = y_test[mask]\n",
    "    mask = np.random.choice(num_training, num_dev, replace=False)\n",
    "    X_dev = X_train[mask]\n",
    "    y_dev = y_train[mask]\n",
    "    \n",
    "    X_train = X_train.reshape((X_train.shape[0],-1))\n",
    "    X_val = X_val.reshape((X_val.shape[0],-1))\n",
    "    X_test = X_test.reshape((X_test.shape[0],-1))\n",
    "    X_dev = X_dev.reshape((X_dev.shape[0],-1))\n",
    "    \n",
    "    mean_img = np.mean(X_train, axis=0)\n",
    "    X_train -= mean_img\n",
    "    X_val -= mean_img\n",
    "    X_test -= mean_img\n",
    "    X_dev -= mean_img\n",
    "    \n",
    "    X_train = np.hstack((X_train, np.ones((X_train.shape[0], 1))))\n",
    "    X_val = np.hstack((X_val, np.ones((X_val.shape[0], 1))))\n",
    "    X_test = np.hstack((X_test, np.ones((X_test.shape[0], 1))))\n",
    "    X_dev = np.hstack((X_dev, np.ones((X_dev.shape[0], 1))))\n",
    "    \n",
    "    return X_train, y_train, X_val, y_val, X_test, y_test, X_dev, y_dev\n",
    "\n",
    "    try:\n",
    "       del X_train, y_train\n",
    "       del X_test, y_test\n",
    "       print('Clear previously loaded data.')\n",
    "    except:\n",
    "       pass\n",
    "\n",
    "X_train, y_train, X_val, y_val, X_test, y_test, X_dev, y_dev = get_CIFAR10_data()\n",
    "print('Train data shape: ', X_train.shape)\n",
    "print('Train labels shape: ', y_train.shape)\n",
    "print('Validation data shape: ', X_val.shape)\n",
    "print('Validation labels shape: ', y_val.shape)\n",
    "print('Test data shape: ', X_test.shape)\n",
    "print('Test labels shape: ', y_test.shape)\n",
    "print('dev data shape: ', X_dev.shape)\n",
    "print('dev labels shape: ', y_dev.shape)"
   ]
  },
  {
   "cell_type": "code",
   "execution_count": 37,
   "metadata": {},
   "outputs": [
    {
     "name": "stdout",
     "output_type": "stream",
     "text": [
      "loss: 2.323544\n",
      "sanity check: 2.302585\n",
      "numerical: -0.515340 analytic: -0.515340, relative error: 5.895610e-08\n",
      "numerical: -2.069148 analytic: -2.069148, relative error: 1.066375e-08\n",
      "numerical: 3.801051 analytic: 3.801051, relative error: 1.682355e-08\n",
      "numerical: 3.215129 analytic: 3.215129, relative error: 3.635512e-09\n",
      "numerical: 0.582542 analytic: 0.582542, relative error: 2.032481e-08\n",
      "numerical: 4.386342 analytic: 4.386342, relative error: 1.856252e-08\n",
      "numerical: -1.473942 analytic: -1.473942, relative error: 1.736991e-08\n",
      "numerical: 0.881228 analytic: 0.881228, relative error: 3.219992e-08\n",
      "numerical: 1.000707 analytic: 1.000707, relative error: 1.288456e-07\n",
      "numerical: 1.229176 analytic: 1.229176, relative error: 1.656035e-08\n"
     ]
    }
   ],
   "source": [
    "from cs231n.classifiers.softmax import softmax_loss_naive\n",
    "from cs231n.gradient_check import grad_check_sparse\n",
    "import time\n",
    "\n",
    "W = np.random.randn(3073, 10) * 0.0001\n",
    "loss, grad = softmax_loss_naive(W, X_dev, y_dev, 0)\n",
    "print('loss: %f' % loss)\n",
    "print('sanity check: %f' % (np.log(10)))\n",
    "\n",
    "f = lambda w: softmax_loss_naive(w, X_dev, y_dev, 0)[0]\n",
    "grad_numerical = grad_check_sparse(f, W, grad)"
   ]
  },
  {
   "cell_type": "code",
   "execution_count": 38,
   "metadata": {},
   "outputs": [
    {
     "name": "stdout",
     "output_type": "stream",
     "text": [
      "loss: 2.436847\n",
      "sanity check: 2.302585\n",
      "numerical: 2.727743 analytic: 2.727743, relative error: 8.389053e-09\n",
      "numerical: 1.096912 analytic: 1.096912, relative error: 9.185693e-08\n",
      "numerical: -0.536266 analytic: -0.536266, relative error: 2.531658e-08\n",
      "numerical: -0.170921 analytic: -0.170921, relative error: 4.777911e-08\n",
      "numerical: -2.014265 analytic: -2.014265, relative error: 2.506138e-08\n",
      "numerical: -5.213677 analytic: -5.213678, relative error: 1.385523e-08\n",
      "numerical: 1.382830 analytic: 1.382830, relative error: 2.348121e-08\n",
      "numerical: 4.870171 analytic: 4.870171, relative error: 1.561781e-08\n",
      "numerical: 0.031351 analytic: 0.031351, relative error: 3.894605e-06\n",
      "numerical: 1.954365 analytic: 1.954365, relative error: 1.620158e-08\n"
     ]
    }
   ],
   "source": [
    "W = np.random.randn(3073, 10) * 0.0001\n",
    "loss, grad = softmax_loss_naive(W, X_dev, y_dev, 5e1)\n",
    "print('loss: %f' % loss)\n",
    "print('sanity check: %f' % (np.log(10)))\n",
    "\n",
    "f = lambda w: softmax_loss_naive(w, X_dev, y_dev, 5e1)[0]\n",
    "grad_numerical = grad_check_sparse(f, W, grad)"
   ]
  },
  {
   "cell_type": "code",
   "execution_count": 42,
   "metadata": {},
   "outputs": [
    {
     "name": "stdout",
     "output_type": "stream",
     "text": [
      "loss: 2.421490\n",
      "sanity check: 2.302585\n",
      "numerical: 1.815581 analytic: 1.815581, relative error: 3.226324e-09\n",
      "numerical: 2.897426 analytic: 2.897426, relative error: 1.554385e-10\n",
      "numerical: -0.447616 analytic: -0.447616, relative error: 1.514487e-07\n",
      "numerical: 2.643426 analytic: 2.643426, relative error: 8.689624e-09\n",
      "numerical: 0.415965 analytic: 0.415964, relative error: 2.456939e-07\n",
      "numerical: -5.543487 analytic: -5.543487, relative error: 5.325049e-09\n",
      "numerical: -0.985358 analytic: -0.985358, relative error: 4.578919e-08\n",
      "numerical: 1.374049 analytic: 1.374049, relative error: 1.579397e-08\n",
      "numerical: -0.193109 analytic: -0.193110, relative error: 2.334576e-07\n",
      "numerical: -0.688246 analytic: -0.688246, relative error: 6.917326e-08\n"
     ]
    }
   ],
   "source": [
    "from cs231n.classifiers.softmax import softmax_loss_vectorized\n",
    "\n",
    "loss, grad = softmax_loss_vectorized(W, X_dev, y_dev, 0)\n",
    "print('loss: %f' % loss)\n",
    "print('sanity check: %f' % (np.log(10)))\n",
    "\n",
    "f = lambda w: softmax_loss_vectorized(w, X_dev, y_dev, 0)[0]\n",
    "grad_numerical = grad_check_sparse(f, W, grad)"
   ]
  },
  {
   "cell_type": "code",
   "execution_count": 43,
   "metadata": {},
   "outputs": [
    {
     "name": "stdout",
     "output_type": "stream",
     "text": [
      "loss: 2.436847\n",
      "sanity check: 2.302585\n",
      "numerical: 0.520001 analytic: 0.520001, relative error: 3.123269e-08\n",
      "numerical: -2.537698 analytic: -2.537698, relative error: 9.631761e-09\n",
      "numerical: -0.250981 analytic: -0.250981, relative error: 4.390918e-07\n",
      "numerical: -1.549709 analytic: -1.549709, relative error: 4.200822e-09\n",
      "numerical: 1.483730 analytic: 1.483730, relative error: 3.311022e-08\n",
      "numerical: 3.311037 analytic: 3.311036, relative error: 1.147055e-08\n",
      "numerical: 3.049473 analytic: 3.049472, relative error: 1.131710e-08\n",
      "numerical: -5.869287 analytic: -5.869287, relative error: 9.595099e-09\n",
      "numerical: -1.341475 analytic: -1.341475, relative error: 2.387533e-08\n",
      "numerical: -2.456425 analytic: -2.456425, relative error: 6.199383e-09\n"
     ]
    }
   ],
   "source": [
    "loss, grad = softmax_loss_vectorized(W, X_dev, y_dev, 5e1)\n",
    "print('loss: %f' % loss)\n",
    "print('sanity check: %f' % (np.log(10)))\n",
    "\n",
    "f = lambda w: softmax_loss_vectorized(w, X_dev, y_dev, 5e1)[0]\n",
    "grad_numerical = grad_check_sparse(f, W, grad)"
   ]
  },
  {
   "cell_type": "code",
   "execution_count": 44,
   "metadata": {},
   "outputs": [
    {
     "name": "stdout",
     "output_type": "stream",
     "text": [
      "naive loss: 2.421490e+00 computed in 0.019969s\n",
      "Vectorized loss: 2.421490e+00 computed in 0.006658s\n",
      "Loss difference: 0.000000\n"
     ]
    }
   ],
   "source": [
    "tic = time.time()\n",
    "loss_naive, grads_naive = softmax_loss_naive(W, X_dev, y_dev, 0.000005)\n",
    "toc = time.time()\n",
    "print('naive loss: %e computed in %fs' % (loss_naive, toc - tic))\n",
    "\n",
    "tic = time.time()\n",
    "loss_vec, grads_vec = softmax_loss_vectorized(W, X_dev, y_dev, 0.000005)\n",
    "toc = time.time()\n",
    "print('Vectorized loss: %e computed in %fs' % (loss_vec, toc - tic))\n",
    "print('Loss difference: %f' % np.abs(loss_naive - loss_vec))\n",
    "\n",
    "difference = np.linalg.norm(grads_vec-grads_naive, ord='fro')\n",
    "print('difference: %f' % difference)"
   ]
  },
  {
   "cell_type": "code",
   "execution_count": null,
   "metadata": {},
   "outputs": [],
   "source": []
  }
 ],
 "metadata": {
  "kernelspec": {
   "display_name": "Python 3",
   "language": "python",
   "name": "python3"
  },
  "language_info": {
   "codemirror_mode": {
    "name": "ipython",
    "version": 3
   },
   "file_extension": ".py",
   "mimetype": "text/x-python",
   "name": "python",
   "nbconvert_exporter": "python",
   "pygments_lexer": "ipython3",
   "version": "3.6.4"
  }
 },
 "nbformat": 4,
 "nbformat_minor": 2
}
