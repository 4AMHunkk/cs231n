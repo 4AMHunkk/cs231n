{
 "cells": [
  {
   "cell_type": "code",
   "execution_count": 6,
   "metadata": {},
   "outputs": [
    {
     "name": "stdout",
     "output_type": "stream",
     "text": [
      "The autoreload extension is already loaded. To reload it, use:\n",
      "  %reload_ext autoreload\n"
     ]
    }
   ],
   "source": [
    "import random\n",
    "import numpy as np\n",
    "from cs231n.data_utils import load_CIFAR10\n",
    "import matplotlib.pyplot as plt\n",
    "\n",
    "from __future__ import print_function\n",
    "\n",
    "%matplotlib inline\n",
    "plt.rcParams['figure.figsize'] = (10.0, 8.0) # set default size of plots\n",
    "plt.rcParams['image.interpolation'] = 'nearest'\n",
    "plt.rcParams['image.cmap'] = 'gray'\n",
    "\n",
    "%load_ext autoreload\n",
    "%autoreload 2"
   ]
  },
  {
   "cell_type": "code",
   "execution_count": 12,
   "metadata": {},
   "outputs": [],
   "source": [
    "from cs231n.features import color_histogram_hsv, hog_feature\n",
    "from cs231n.features import extract_features"
   ]
  },
  {
   "cell_type": "code",
   "execution_count": 13,
   "metadata": {},
   "outputs": [
    {
     "name": "stdout",
     "output_type": "stream",
     "text": [
      "Clear previously loaded data.\n"
     ]
    }
   ],
   "source": [
    "def get_CIFAR10_data(num_training=49000, num_validation=1000, num_test=1000):\n",
    "    cifar10_dir = 'cs231n/datasets/cifar-10-batches-py'\n",
    "\n",
    "    X_train, y_train, X_test, y_test = load_CIFAR10(cifar10_dir)\n",
    "\n",
    "    mask = list(range(num_training, num_training + num_validation))\n",
    "    X_val = X_train[mask]\n",
    "    y_val = y_train[mask]\n",
    "    mask = list(range(num_training))\n",
    "    X_train = X_train[mask]\n",
    "    y_train = y_train[mask]\n",
    "    mask = list(range(num_test))\n",
    "    X_test = X_test[mask]\n",
    "    y_test = y_test[mask]\n",
    "    \n",
    "    return X_train, y_train, X_val, y_val, X_test, y_test\n",
    "\n",
    "try:\n",
    "   del X_train, y_train\n",
    "   del X_test, y_test\n",
    "   print('Clear previously loaded data.')\n",
    "except:\n",
    "   pass\n",
    "\n",
    "X_train, y_train, X_val, y_val, X_test, y_test = get_CIFAR10_data()"
   ]
  },
  {
   "cell_type": "code",
   "execution_count": 18,
   "metadata": {},
   "outputs": [],
   "source": [
    "num_color_bins = 10\n",
    "hog = lambda x: hog_feature(x)\n",
    "hsv = lambda x: color_histogram_hsv(x, nbin=num_color_bins)\n",
    "fns = [hog, hsv]\n",
    "\n",
    "X_train_feats = extract_features(X_train, fns)\n",
    "X_val_feats = extract_features(X_val, fns)\n",
    "X_test_feats = extract_features(X_test, fns)\n",
    "\n",
    "mean_feat = np.mean(X_train_feats, axis=0, keepdims=True)\n",
    "X_train_feats -= mean_feat\n",
    "X_val_feats -= mean_feat\n",
    "X_test_feats -= mean_feat\n",
    "\n",
    "std_feat = np.std(X_train_feats, axis=0, keepdims=True)\n",
    "X_train_feats /= std_feat\n",
    "X_val_feats /= std_feat\n",
    "X_test_feats /= std_feat\n",
    "\n",
    "X_train_feats = np.hstack([X_train_feats, np.ones((X_train_feats.shape[0], 1))])\n",
    "X_val_feats = np.hstack([X_val_feats, np.ones((X_val_feats.shape[0], 1))])\n",
    "X_test_feats = np.hstack([X_test_feats, np.ones((X_test_feats.shape[0], 1))])"
   ]
  },
  {
   "cell_type": "code",
   "execution_count": 20,
   "metadata": {},
   "outputs": [],
   "source": [
    "from cs231n.classifiers.linear_classifier import LinearSVM"
   ]
  },
  {
   "cell_type": "code",
   "execution_count": 21,
   "metadata": {},
   "outputs": [
    {
     "name": "stdout",
     "output_type": "stream",
     "text": [
      "lr 1.000000e-09 reg 5.000000e+04 train accuracy: 0.108816 val accuracy: 0.103000\n",
      "lr 1.000000e-09 reg 5.000000e+05 train accuracy: 0.105000 val accuracy: 0.106000\n",
      "lr 1.000000e-09 reg 5.000000e+06 train accuracy: 0.416714 val accuracy: 0.417000\n",
      "lr 1.000000e-08 reg 5.000000e+04 train accuracy: 0.092122 val accuracy: 0.091000\n",
      "lr 1.000000e-08 reg 5.000000e+05 train accuracy: 0.417347 val accuracy: 0.420000\n",
      "lr 1.000000e-08 reg 5.000000e+06 train accuracy: 0.402939 val accuracy: 0.405000\n",
      "lr 1.000000e-07 reg 5.000000e+04 train accuracy: 0.414184 val accuracy: 0.417000\n",
      "lr 1.000000e-07 reg 5.000000e+05 train accuracy: 0.408143 val accuracy: 0.399000\n",
      "lr 1.000000e-07 reg 5.000000e+06 train accuracy: 0.315776 val accuracy: 0.305000\n",
      "best validation accuracy achieved during cross-validation: 0.420000\n"
     ]
    }
   ],
   "source": [
    "learning_rates = [1e-9, 1e-8, 1e-7]\n",
    "regularization_strengths = [5e4, 5e5, 5e6]\n",
    "\n",
    "results = {}\n",
    "best_val = -1\n",
    "best_svm = None\n",
    "\n",
    "for lr in learning_rates:\n",
    "    for reg in regularization_strengths:\n",
    "        svm = LinearSVM()\n",
    "        svm.train(X_train_feats, y_train, learning_rate=lr, reg=reg, num_iters=1500, verbose=False)\n",
    "        \n",
    "        y_pred = svm.predict(X_train_feats)\n",
    "        train_accuracy = np.mean(y_pred == y_train)   \n",
    "        \n",
    "        y_pred = svm.predict(X_val_feats)\n",
    "        val_accuracy = np.mean(y_pred == y_val)\n",
    "        results[(lr, reg)] = (train_accuracy, val_accuracy)\n",
    "        if val_accuracy > best_val:\n",
    "            best_val = val_accuracy\n",
    "            best_svm = svm\n",
    "\n",
    "for lr, reg in sorted(results):\n",
    "    train_accuracy, val_accuracy = results[(lr, reg)]\n",
    "    print('lr %e reg %e train accuracy: %f val accuracy: %f' % (\n",
    "                lr, reg, train_accuracy, val_accuracy))\n",
    "    \n",
    "print('best validation accuracy achieved during cross-validation: %f' % best_val)"
   ]
  },
  {
   "cell_type": "code",
   "execution_count": 22,
   "metadata": {},
   "outputs": [
    {
     "name": "stdout",
     "output_type": "stream",
     "text": [
      "0.421\n"
     ]
    }
   ],
   "source": [
    "y_test_pred = best_svm.predict(X_test_feats)\n",
    "test_accuracy = np.mean(y_test == y_test_pred)\n",
    "print(test_accuracy)"
   ]
  },
  {
   "cell_type": "code",
   "execution_count": 27,
   "metadata": {},
   "outputs": [
    {
     "name": "stdout",
     "output_type": "stream",
     "text": [
      "[  7  22  31  34  63  67  70  71  72  81 106 114 120 121 124 126 128 129\n",
      " 142 151 159 160 165 167 173 184 187 201 202 211 218 246 262 265 295 306\n",
      " 310 312 326 342 344 357 364 385 391 403 408 410 420 446 449 450 454 459\n",
      " 479 482 485 492 495 498 507 519 529 537 553 566 577 586 603 629 630 635\n",
      " 674 688 694 695 697 701 706 735 737 746 750 751 755 757 769 786 792 826\n",
      " 830 839 852 873 878 908 938 939 965 974 976 977 980 985]\n",
      "[  1  23  40  45  62  69  76 101 108 111 150 162 174 191 199 233 242 259\n",
      " 293 328 335 339 343 349 350 358 383 394 401 417 451 469 528 534 539 582\n",
      " 585 587 589 595 606 611 615 621 626 666 671 675 680 683 700 725 729 734\n",
      " 741 770 780 785 788 814 853 866 881 912 918 930 969]\n",
      "[ 21  27  48  49  85 100 176 186 197 227 236 254 304 309 323 356 370 373\n",
      " 397 437 441 453 475 478 550 551 570 573 631 647 658 663 669 682 685 690\n",
      " 705 713 716 761 768 802 805 809 811 820 849 855 872 901 907 950 952]\n",
      "[158 180 212 221 314 317 319 354 360 427 518 549 557 567 632 720 890 893\n",
      " 922 923 933 971]\n",
      "[ 24  59  93 195 271 316 327 377 378 421 430 556 692 715 799 834 862 897\n",
      " 900 919]\n",
      "[  0  36  46  53  56  61  78  86 102 109 119 127 137 138 143 146 147 149\n",
      " 153 157 251 266 270 272 273 279 294 302 367 384 405 418 438 456 470 497\n",
      " 558 565 578 607 623 664 672 686 704 707 727 730 739 740 756 773 795 829\n",
      " 850 863 927 932 935 943 945 948 982 986]\n",
      "[  6  12  13  17  32  35  52  65  77  91  98 110 130 148 170 182 190 204\n",
      " 208 232 238 256 260 332 336 340 386 388 393 426 428 436 452 455 458 465\n",
      " 466 468 514 541 548 563 564 569 598 599 618 633 641 648 657 661 673 676\n",
      " 702 714 731 744 779 796 819 831 832 833 835 843 846 882 883 889 896 903\n",
      " 910 911 926 947 954 972 988 993 995 998]\n",
      "[ 25  30  33  42  47  68 103 117 122 181 188 200 219 224 226 229 239 248\n",
      " 250 277 278 301 303 315 346 396 412 416 460 467 474 484 500 505 574 608\n",
      " 628 649 650 678 689 710 718 747 776 821 828 845 898 916]\n",
      "[  3  44  57  87  90  97 113 125 139 154 172 189 192 209 237 245 247 249\n",
      " 253 255 258 287 289 305 307 330 352 363 376 398 407 411 425 444 477 494\n",
      " 509 522 530 531 538 555 560 568 581 591 596 638 642 644 655 659 719 728\n",
      " 736 758 766 767 787 793 825 836 868 886 888 929 944 961 975 981 983 997]\n",
      "[  9  37  58  74 115 131 132 134 168 179 215 231 241 276 324 365 371 374\n",
      " 399 414 434 471 480 496 515 597 616 637 639 652 677 693 717 726 732 760\n",
      " 790 797 800 840 870 934 941 957 966]\n"
     ]
    }
   ],
   "source": [
    "examples_per_class = 8\n",
    "classes = ['plane', 'car', 'bird', 'cat', 'deer', 'dog', 'frog', 'horse', 'ship', 'truck']\n",
    "for idx, cls in enumerate(classes):\n",
    "    idxs = np.where((y_test != idx) & (y_test_pred == idx))[0]\n",
    "    print(y_test.shape)\n",
    "    print(y_test_pred.shape)\n",
    "    print(idxs)\n",
    "    break"
   ]
  },
  {
   "cell_type": "code",
   "execution_count": null,
   "metadata": {},
   "outputs": [],
   "source": []
  }
 ],
 "metadata": {
  "kernelspec": {
   "display_name": "Python 3",
   "language": "python",
   "name": "python3"
  },
  "language_info": {
   "codemirror_mode": {
    "name": "ipython",
    "version": 3
   },
   "file_extension": ".py",
   "mimetype": "text/x-python",
   "name": "python",
   "nbconvert_exporter": "python",
   "pygments_lexer": "ipython3",
   "version": "3.6.4"
  }
 },
 "nbformat": 4,
 "nbformat_minor": 2
}
