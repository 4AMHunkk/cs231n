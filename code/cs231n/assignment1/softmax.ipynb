{
 "cells": [
  {
   "cell_type": "code",
   "execution_count": 2,
   "metadata": {},
   "outputs": [
    {
     "name": "stdout",
     "output_type": "stream",
     "text": [
      "The autoreload extension is already loaded. To reload it, use:\n",
      "  %reload_ext autoreload\n"
     ]
    }
   ],
   "source": [
    "import random\n",
    "import numpy as np\n",
    "from cs231n.data_utils import load_CIFAR10\n",
    "import matplotlib.pyplot as plt\n",
    "\n",
    "from __future__ import print_function\n",
    "\n",
    "%matplotlib inline\n",
    "plt.rcParams['figure.figsize'] = (10.0, 8.0) # set default size of plots\n",
    "plt.rcParams['image.interpolation'] = 'nearest'\n",
    "plt.rcParams['image.cmap'] = 'gray'\n",
    "\n",
    "%load_ext autoreload\n",
    "%autoreload 2"
   ]
  },
  {
   "cell_type": "code",
   "execution_count": 7,
   "metadata": {},
   "outputs": [
    {
     "name": "stdout",
     "output_type": "stream",
     "text": [
      "Train data shape:  (49000, 3073)\n",
      "Train labels shape:  (49000,)\n",
      "Validation data shape:  (1000, 3073)\n",
      "Validation labels shape:  (1000,)\n",
      "Test data shape:  (1000, 3073)\n",
      "Test labels shape:  (1000,)\n",
      "dev data shape:  (500, 3073)\n",
      "dev labels shape:  (500,)\n"
     ]
    }
   ],
   "source": [
    "def get_CIFAR10_data(num_training=49000, num_val=1000, num_test=1000, num_dev=500):\n",
    "    cifar10_dir = 'cs231n/datasets/cifar-10-batches-py'\n",
    "    X_train, y_train, X_test, y_test = load_CIFAR10(cifar10_dir)\n",
    "    \n",
    "    mask = np.arange(num_training, num_training+num_val)\n",
    "    X_val = X_train[mask]\n",
    "    y_val = y_train[mask]\n",
    "    mask = np.arange(num_training)\n",
    "    X_train = X_train[mask]\n",
    "    y_train = y_train[mask]\n",
    "    mask = np.arange(num_test)\n",
    "    X_test = X_test[mask]\n",
    "    y_test = y_test[mask]\n",
    "    mask = np.random.choice(num_training, num_dev, replace=False)\n",
    "    X_dev = X_train[mask]\n",
    "    y_dev = y_train[mask]\n",
    "    \n",
    "    X_train = X_train.reshape((X_train.shape[0],-1))\n",
    "    X_val = X_val.reshape((X_val.shape[0],-1))\n",
    "    X_test = X_test.reshape((X_test.shape[0],-1))\n",
    "    X_dev = X_dev.reshape((X_dev.shape[0],-1))\n",
    "    \n",
    "    mean_img = np.mean(X_train, axis=0)\n",
    "    X_train -= mean_img\n",
    "    X_val -= mean_img\n",
    "    X_test -= mean_img\n",
    "    X_dev -= mean_img\n",
    "    \n",
    "    X_train = np.hstack((X_train, np.ones((X_train.shape[0], 1))))\n",
    "    X_val = np.hstack((X_val, np.ones((X_val.shape[0], 1))))\n",
    "    X_test = np.hstack((X_test, np.ones((X_test.shape[0], 1))))\n",
    "    X_dev = np.hstack((X_dev, np.ones((X_dev.shape[0], 1))))\n",
    "    \n",
    "    return X_train, y_train, X_val, y_val, X_test, y_test, X_dev, y_dev\n",
    "\n",
    "    try:\n",
    "       del X_train, y_train\n",
    "       del X_test, y_test\n",
    "       print('Clear previously loaded data.')\n",
    "    except:\n",
    "       pass\n",
    "\n",
    "X_train, y_train, X_val, y_val, X_test, y_test, X_dev, y_dev = get_CIFAR10_data()\n",
    "print('Train data shape: ', X_train.shape)\n",
    "print('Train labels shape: ', y_train.shape)\n",
    "print('Validation data shape: ', X_val.shape)\n",
    "print('Validation labels shape: ', y_val.shape)\n",
    "print('Test data shape: ', X_test.shape)\n",
    "print('Test labels shape: ', y_test.shape)\n",
    "print('dev data shape: ', X_dev.shape)\n",
    "print('dev labels shape: ', y_dev.shape)"
   ]
  },
  {
   "cell_type": "code",
   "execution_count": 46,
   "metadata": {},
   "outputs": [
    {
     "name": "stdout",
     "output_type": "stream",
     "text": [
      "loss: 2.392790\n",
      "sanity check: 2.302585\n",
      "numerical: 2.326685 analytic: 2.326685, relative error: 1.920158e-08\n",
      "numerical: -4.766981 analytic: -4.766981, relative error: 1.239652e-09\n",
      "numerical: -0.679583 analytic: -0.679583, relative error: 2.591898e-08\n",
      "numerical: -4.126045 analytic: -4.126045, relative error: 5.349668e-10\n",
      "numerical: -0.912941 analytic: -0.912941, relative error: 4.218948e-08\n",
      "numerical: 1.123925 analytic: 1.123925, relative error: 3.160244e-08\n",
      "numerical: -3.896705 analytic: -3.896705, relative error: 3.350579e-09\n",
      "numerical: -0.072943 analytic: -0.072944, relative error: 1.315906e-06\n",
      "numerical: 3.216281 analytic: 3.216281, relative error: 7.318327e-09\n",
      "numerical: -0.268001 analytic: -0.268001, relative error: 1.675658e-08\n"
     ]
    }
   ],
   "source": [
    "from cs231n.classifiers.softmax import softmax_loss_naive\n",
    "from cs231n.gradient_check import grad_check_sparse\n",
    "import time\n",
    "\n",
    "W = np.random.randn(3073, 10) * 0.0001\n",
    "loss, grad = softmax_loss_naive(W, X_dev, y_dev, 0)\n",
    "print('loss: %f' % loss)\n",
    "print('sanity check: %f' % (np.log(10)))\n",
    "\n",
    "f = lambda w: softmax_loss_naive(w, X_dev, y_dev, 0)[0]\n",
    "grad_numerical = grad_check_sparse(f, W, grad)"
   ]
  },
  {
   "cell_type": "code",
   "execution_count": 47,
   "metadata": {},
   "outputs": [
    {
     "name": "stdout",
     "output_type": "stream",
     "text": [
      "loss: 2.379224\n",
      "sanity check: 2.302585\n",
      "numerical: -2.936351 analytic: -2.936351, relative error: 1.354822e-08\n",
      "numerical: -1.495440 analytic: -1.495440, relative error: 4.551448e-09\n",
      "numerical: 2.255896 analytic: 2.255896, relative error: 1.372079e-08\n",
      "numerical: -0.337261 analytic: -0.337261, relative error: 2.366239e-07\n",
      "numerical: -0.680771 analytic: -0.680771, relative error: 1.147085e-08\n",
      "numerical: -1.026642 analytic: -1.026642, relative error: 2.000904e-08\n",
      "numerical: 2.712696 analytic: 2.712696, relative error: 8.578982e-09\n",
      "numerical: 0.404190 analytic: 0.404190, relative error: 1.030118e-07\n",
      "numerical: -2.789124 analytic: -2.789124, relative error: 2.029008e-08\n",
      "numerical: -1.050986 analytic: -1.050986, relative error: 6.133700e-08\n"
     ]
    }
   ],
   "source": [
    "W = np.random.randn(3073, 10) * 0.0001\n",
    "loss, grad = softmax_loss_naive(W, X_dev, y_dev, 5e1)\n",
    "print('loss: %f' % loss)\n",
    "print('sanity check: %f' % (np.log(10)))\n",
    "\n",
    "f = lambda w: softmax_loss_naive(w, X_dev, y_dev, 5e1)[0]\n",
    "grad_numerical = grad_check_sparse(f, W, grad)"
   ]
  },
  {
   "cell_type": "code",
   "execution_count": 48,
   "metadata": {},
   "outputs": [
    {
     "name": "stdout",
     "output_type": "stream",
     "text": [
      "loss: 2.364067\n",
      "sanity check: 2.302585\n",
      "numerical: -0.095231 analytic: -0.095231, relative error: 2.609341e-07\n",
      "numerical: -2.304765 analytic: -2.304765, relative error: 6.181373e-08\n",
      "numerical: 0.219032 analytic: 0.219032, relative error: 1.058366e-07\n",
      "numerical: 0.099840 analytic: 0.099839, relative error: 1.148820e-06\n",
      "numerical: 0.179334 analytic: 0.179334, relative error: 2.485430e-07\n",
      "numerical: 0.286631 analytic: 0.286631, relative error: 4.662907e-08\n",
      "numerical: 3.339376 analytic: 3.339375, relative error: 2.841446e-08\n",
      "numerical: 1.412158 analytic: 1.412158, relative error: 1.261559e-08\n",
      "numerical: -0.818849 analytic: -0.818850, relative error: 1.231463e-07\n",
      "numerical: -0.251875 analytic: -0.251875, relative error: 3.645802e-08\n"
     ]
    }
   ],
   "source": [
    "from cs231n.classifiers.softmax import softmax_loss_vectorized\n",
    "\n",
    "loss, grad = softmax_loss_vectorized(W, X_dev, y_dev, 0)\n",
    "print('loss: %f' % loss)\n",
    "print('sanity check: %f' % (np.log(10)))\n",
    "\n",
    "f = lambda w: softmax_loss_vectorized(w, X_dev, y_dev, 0)[0]\n",
    "grad_numerical = grad_check_sparse(f, W, grad)"
   ]
  },
  {
   "cell_type": "code",
   "execution_count": 49,
   "metadata": {},
   "outputs": [
    {
     "name": "stdout",
     "output_type": "stream",
     "text": [
      "loss: 2.379224\n",
      "sanity check: 2.302585\n",
      "numerical: 1.488291 analytic: 1.488291, relative error: 1.101785e-08\n",
      "numerical: 0.091320 analytic: 0.091320, relative error: 1.048846e-06\n",
      "numerical: 1.329217 analytic: 1.329217, relative error: 4.549728e-08\n",
      "numerical: 2.513550 analytic: 2.513550, relative error: 5.727604e-08\n",
      "numerical: 0.832895 analytic: 0.832895, relative error: 1.887034e-08\n",
      "numerical: 3.792607 analytic: 3.792607, relative error: 1.121168e-08\n",
      "numerical: -1.131150 analytic: -1.131150, relative error: 9.047976e-09\n",
      "numerical: 1.550063 analytic: 1.550063, relative error: 5.412928e-08\n",
      "numerical: 0.950381 analytic: 0.950381, relative error: 1.194170e-07\n",
      "numerical: 3.453530 analytic: 3.453530, relative error: 1.993230e-08\n"
     ]
    }
   ],
   "source": [
    "loss, grad = softmax_loss_vectorized(W, X_dev, y_dev, 5e1)\n",
    "print('loss: %f' % loss)\n",
    "print('sanity check: %f' % (np.log(10)))\n",
    "\n",
    "f = lambda w: softmax_loss_vectorized(w, X_dev, y_dev, 5e1)[0]\n",
    "grad_numerical = grad_check_sparse(f, W, grad)"
   ]
  },
  {
   "cell_type": "code",
   "execution_count": 50,
   "metadata": {},
   "outputs": [
    {
     "name": "stdout",
     "output_type": "stream",
     "text": [
      "naive loss: 2.364067e+00 computed in 0.019523s\n",
      "Vectorized loss: 2.364067e+00 computed in 0.006603s\n",
      "Loss difference: 0.000000\n",
      "difference: 0.000000\n"
     ]
    }
   ],
   "source": [
    "tic = time.time()\n",
    "loss_naive, grads_naive = softmax_loss_naive(W, X_dev, y_dev, 0.000005)\n",
    "toc = time.time()\n",
    "print('naive loss: %e computed in %fs' % (loss_naive, toc - tic))\n",
    "\n",
    "tic = time.time()\n",
    "loss_vec, grads_vec = softmax_loss_vectorized(W, X_dev, y_dev, 0.000005)\n",
    "toc = time.time()\n",
    "print('Vectorized loss: %e computed in %fs' % (loss_vec, toc - tic))\n",
    "print('Loss difference: %f' % np.abs(loss_naive - loss_vec))\n",
    "\n",
    "difference = np.linalg.norm(grads_vec-grads_naive, ord='fro')\n",
    "print('difference: %f' % difference)"
   ]
  },
  {
   "cell_type": "code",
   "execution_count": null,
   "metadata": {},
   "outputs": [],
   "source": []
  }
 ],
 "metadata": {
  "kernelspec": {
   "display_name": "Python 3",
   "language": "python",
   "name": "python3"
  },
  "language_info": {
   "codemirror_mode": {
    "name": "ipython",
    "version": 3
   },
   "file_extension": ".py",
   "mimetype": "text/x-python",
   "name": "python",
   "nbconvert_exporter": "python",
   "pygments_lexer": "ipython3",
   "version": "3.6.4"
  }
 },
 "nbformat": 4,
 "nbformat_minor": 2
}
