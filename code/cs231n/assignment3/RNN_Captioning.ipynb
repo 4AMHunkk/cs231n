{
 "cells": [
  {
   "cell_type": "code",
   "execution_count": 1,
   "metadata": {},
   "outputs": [],
   "source": [
    "import time, os, json\n",
    "import numpy as np\n",
    "import matplotlib.pyplot as plt"
   ]
  },
  {
   "cell_type": "code",
   "execution_count": 3,
   "metadata": {},
   "outputs": [
    {
     "name": "stdout",
     "output_type": "stream",
     "text": [
      "The autoreload extension is already loaded. To reload it, use:\n",
      "  %reload_ext autoreload\n"
     ]
    }
   ],
   "source": [
    "from cs231n.gradient_check import eval_numerical_gradient, eval_numerical_gradient_array\n",
    "from cs231n.rnn_layers import *\n",
    "from cs231n.captioning_solver import CaptioningSolver\n",
    "from cs231n.classifiers.rnn import CaptioningRNN\n",
    "from cs231n.coco_utils import load_coco_data, sample_coco_minibatch, decode_captions\n",
    "from cs231n.image_utils import image_from_url\n",
    "\n",
    "%matplotlib inline\n",
    "plt.rcParams['figure.figsize'] = (10.0, 8.0)\n",
    "plt.rcParams['image.interpolation'] = 'nearest'\n",
    "plt.rcParams['image.cmap'] = 'gray'\n",
    "\n",
    "%load_ext autoreload\n",
    "%autoreload 2"
   ]
  },
  {
   "cell_type": "code",
   "execution_count": 4,
   "metadata": {},
   "outputs": [],
   "source": [
    "def rel_error(x, y):\n",
    "    return np.max(np.abs(x - y) / (np.maximum(1e-8, np.abs(x) + np.abs(y))))"
   ]
  },
  {
   "cell_type": "code",
   "execution_count": 5,
   "metadata": {},
   "outputs": [
    {
     "name": "stdout",
     "output_type": "stream",
     "text": [
      "train_captions <class 'numpy.ndarray'> (400135, 17) int32\n",
      "train_image_idxs <class 'numpy.ndarray'> (400135,) int32\n",
      "val_captions <class 'numpy.ndarray'> (195954, 17) int32\n",
      "val_image_idxs <class 'numpy.ndarray'> (195954,) int32\n",
      "train_features <class 'numpy.ndarray'> (82783, 512) float32\n",
      "val_features <class 'numpy.ndarray'> (40504, 512) float32\n",
      "idx_to_word <class 'list'> 1004\n",
      "word_to_idx <class 'dict'> 1004\n",
      "train_urls <class 'numpy.ndarray'> (82783,) <U63\n",
      "val_urls <class 'numpy.ndarray'> (40504,) <U63\n"
     ]
    }
   ],
   "source": [
    "data = load_coco_data(pca_features=True)\n",
    "\n",
    "for k,v in data.items():\n",
    "    if type(v) == np.ndarray:\n",
    "        print(k, type(v), v.shape, v.dtype)\n",
    "    else:\n",
    "        print(k, type(v), len(v))"
   ]
  },
  {
   "cell_type": "code",
   "execution_count": 6,
   "metadata": {},
   "outputs": [
    {
     "name": "stdout",
     "output_type": "stream",
     "text": [
      "[  1   4   3 172   6   4  62  10 317   6 114 612   2   0   0   0   0]\n",
      "<START> a <UNK> view of a kitchen and all of its appliances <END>\n"
     ]
    }
   ],
   "source": [
    "print(data['train_captions'][1])\n",
    "print(decode_captions(data['train_captions'][1], data['idx_to_word']))"
   ]
  },
  {
   "cell_type": "code",
   "execution_count": 7,
   "metadata": {},
   "outputs": [
    {
     "data": {
      "image/png": "[encoded data removed]",
      "text/plain": [
       "<matplotlib.figure.Figure at 0x7f02530689b0>"
      ]
     },
     "metadata": {},
     "output_type": "display_data"
    },
    {
     "data": {
      "image/png": "[encoded data removed]",
      "text/plain": [
       "<matplotlib.figure.Figure at 0x7f02412f73c8>"
      ]
     },
     "metadata": {},
     "output_type": "display_data"
    },
    {
     "data": {
      "image/png": "[encoded data removed]",
      "text/plain": [
       "<matplotlib.figure.Figure at 0x7f024171b6a0>"
      ]
     },
     "metadata": {},
     "output_type": "display_data"
    }
   ],
   "source": [
    "batch_size = 3\n",
    "\n",
    "captions, features, urls = sample_coco_minibatch(data, batch_size=batch_size)\n",
    "for i, (caption, url) in enumerate(zip(captions, urls)):\n",
    "#     plt.imshow(image_from_url(url))\n",
    "    plt.axis('off')\n",
    "    caption_str = decode_captions(caption, data['idx_to_word'])\n",
    "    plt.title(caption_str)\n",
    "    plt.show()"
   ]
  },
  {
   "cell_type": "markdown",
   "metadata": {},
   "source": [
    "Recurrent Neural Network\n",
    "---"
   ]
  },
  {
   "cell_type": "markdown",
   "metadata": {},
   "source": [
    "### Vanilla RNN: hidden state trasition step forward"
   ]
  },
  {
   "cell_type": "code",
   "execution_count": 8,
   "metadata": {},
   "outputs": [
    {
     "name": "stdout",
     "output_type": "stream",
     "text": [
      "current_h error:  6.292421426471037e-09\n"
     ]
    }
   ],
   "source": [
    "N, W, H = 3, 10, 4\n",
    "\n",
    "x = np.linspace(-0.4, 0.7, num=N*W).reshape(N, W)\n",
    "prev_h = np.linspace(-0.2, 0.5, num=N*H).reshape(N, H)\n",
    "Wx = np.linspace(-0.1, 0.9, num=W*H).reshape(W, H)\n",
    "Wh = np.linspace(-0.3, 0.7, num=H*H).reshape(H, H)\n",
    "bh = np.linspace(-0.2, 0.4, num=H)\n",
    "\n",
    "current_h, _ = rnn_step_forward(x, prev_h, Wx, Wh, bh)\n",
    "expected_next_h = np.asarray([\n",
    "  [-0.58172089, -0.50182032, -0.41232771, -0.31410098],\n",
    "  [ 0.66854692,  0.79562378,  0.87755553,  0.92795967],\n",
    "  [ 0.97934501,  0.99144213,  0.99646691,  0.99854353]])\n",
    "\n",
    "print('current_h error: ', rel_error(expected_next_h, current_h))"
   ]
  },
  {
   "cell_type": "markdown",
   "metadata": {},
   "source": [
    "### Vanilla RNN: hidden state transition step backward"
   ]
  },
  {
   "cell_type": "code",
   "execution_count": 9,
   "metadata": {},
   "outputs": [],
   "source": [
    "from cs231n.rnn_layers import rnn_step_forward, rnn_step_backward"
   ]
  },
  {
   "cell_type": "code",
   "execution_count": 10,
   "metadata": {},
   "outputs": [
    {
     "name": "stdout",
     "output_type": "stream",
     "text": [
      "dx error:  4.680739701325456e-10\n",
      "dprev_h error:  2.4640321713487985e-10\n",
      "dWx error:  7.092020215603479e-10\n",
      "dWh error:  5.034265173186601e-10\n",
      "dbh error:  7.30162216654e-11\n"
     ]
    }
   ],
   "source": [
    "np.random.seed(231)\n",
    "N, W, H = 4, 5, 6\n",
    "\n",
    "x = np.random.randn(N, W)\n",
    "h = np.random.randn(N, H)\n",
    "Wx = np.random.randn(W, H)\n",
    "Wh = np.random.randn(H, H)\n",
    "bh = np.random.randn(H, )\n",
    "\n",
    "out, cache = rnn_step_forward(x, h, Wx, Wh, bh)\n",
    "dcurrent_h = np.random.randn(*out.shape)\n",
    "\n",
    "f = lambda _: rnn_step_forward(x, h, Wx, Wh, bh)[0]\n",
    "dx_num = eval_numerical_gradient_array(f, x, dcurrent_h)\n",
    "dprev_h_num = eval_numerical_gradient_array(f, h, dcurrent_h)\n",
    "dWx_num = eval_numerical_gradient_array(f, Wx, dcurrent_h)\n",
    "dWh_num = eval_numerical_gradient_array(f, Wh, dcurrent_h)\n",
    "db_num = eval_numerical_gradient_array(f, bh, dcurrent_h)\n",
    "\n",
    "dx, dprev_h, dWx, dWh, dbh = rnn_step_backward(dcurrent_h, cache)\n",
    "\n",
    "print('dx error: ', rel_error(dx_num, dx))\n",
    "print('dprev_h error: ', rel_error(dprev_h_num, dprev_h))\n",
    "print('dWx error: ', rel_error(dWx_num, dWx))\n",
    "print('dWh error: ', rel_error(dWh_num, dWh))\n",
    "print('dbh error: ', rel_error(db_num, dbh))"
   ]
  },
  {
   "cell_type": "markdown",
   "metadata": {},
   "source": [
    "### Vanilla RNN: temporal affine layer"
   ]
  },
  {
   "cell_type": "code",
   "execution_count": 11,
   "metadata": {},
   "outputs": [
    {
     "name": "stdout",
     "output_type": "stream",
     "text": [
      "dh error:  1.8055922665452894e-10\n",
      "dw error:  1.577204836001982e-10\n",
      "db error:  5.283576721020155e-12\n"
     ]
    }
   ],
   "source": [
    "np.random.seed(231)\n",
    "\n",
    "N, T, H, C = 2, 3, 4, 5\n",
    "h = np.random.randn(N, T, H)\n",
    "w = np.random.randn(H, C)\n",
    "b = np.random.randn(C, )\n",
    "\n",
    "out, cache = temporal_affine_forward(h, w, b)\n",
    "dout = np.random.randn(N, T, C)\n",
    "\n",
    "f = lambda _: temporal_affine_forward(h, w, b)[0]\n",
    "\n",
    "dh_num = eval_numerical_gradient_array(f, h, dout)\n",
    "dw_num = eval_numerical_gradient_array(f, w, dout)\n",
    "db_num = eval_numerical_gradient_array(f, b, dout)\n",
    "\n",
    "dh, dw, db = temporal_affine_backward(dout, cache)\n",
    "\n",
    "print('dh error: ', rel_error(dh_num, dh))\n",
    "print('dw error: ', rel_error(dw_num, dw))\n",
    "print('db error: ', rel_error(db_num, db))"
   ]
  },
  {
   "cell_type": "markdown",
   "metadata": {},
   "source": [
    "### Temporal Softmax loss"
   ]
  },
  {
   "cell_type": "code",
   "execution_count": 12,
   "metadata": {},
   "outputs": [],
   "source": [
    "from cs231n.rnn_layers import temporal_softmax_loss"
   ]
  },
  {
   "cell_type": "code",
   "execution_count": 116,
   "metadata": {},
   "outputs": [
    {
     "name": "stdout",
     "output_type": "stream",
     "text": [
      "2.302574513672554\n",
      "23.02598135384199\n",
      "2.331131645343335\n",
      "dx error:  5.563572256928886e-09\n"
     ]
    }
   ],
   "source": [
    "N, T, C = 100, 1, 10\n",
    "\n",
    "def check_loss(N, T, C, p):\n",
    "    x = 0.001 * np.random.randn(N, T, C)\n",
    "#     x = np.random.randn(N, T, C)\n",
    "    y = np.random.randint(C, size=(N, T))\n",
    "    mask = np.random.rand(N, T) <= p\n",
    "    print(temporal_softmax_loss(x, y, mask)[0])\n",
    "    \n",
    "check_loss(100, 1, 10, 1.0)\n",
    "check_loss(100, 10, 10, 1.0)\n",
    "check_loss(5000, 10, 10, 0.1)\n",
    "\n",
    "N, T, C = 7, 8, 9\n",
    "\n",
    "x = 0.001 * np.random.randn(N, T, C)\n",
    "y = np.random.randint(C, size=(N, T))\n",
    "mask = np.random.rand(N, T) > 0.5\n",
    "\n",
    "loss, dx = temporal_softmax_loss(x, y, mask)\n",
    "f = lambda _: temporal_softmax_loss(x, y, mask)[0]\n",
    "dx_num = eval_numerical_gradient(f, x, verbose=False)\n",
    "print('dx error: ', rel_error(dx, dx_num))"
   ]
  },
  {
   "cell_type": "markdown",
   "metadata": {},
   "source": [
    "### Vanilla RNN: forward"
   ]
  },
  {
   "cell_type": "code",
   "execution_count": 14,
   "metadata": {},
   "outputs": [
    {
     "name": "stdout",
     "output_type": "stream",
     "text": [
      "h error:  7.728466158305164e-08\n"
     ]
    }
   ],
   "source": [
    "N, T, W, H = 2, 3, 4, 5\n",
    "\n",
    "x = np.linspace(-0.1, 0.3, num=N*T*W).reshape(N, T, W)\n",
    "h0 = np.linspace(-0.3, 0.1, num=N*H).reshape(N, H)\n",
    "Wx = np.linspace(-0.2, 0.4, num=W*H).reshape(W, H)\n",
    "Wh = np.linspace(-0.4, 0.1, num=H*H).reshape(H, H)\n",
    "bh = np.linspace(-0.7, 0.1, num=H).reshape(H, )\n",
    "\n",
    "h, _ = rnn_forward(x, h0, Wx, Wh, bh)\n",
    "expected_h = np.asarray([\n",
    "  [\n",
    "    [-0.42070749, -0.27279261, -0.11074945,  0.05740409,  0.22236251],\n",
    "    [-0.39525808, -0.22554661, -0.0409454,   0.14649412,  0.32397316],\n",
    "    [-0.42305111, -0.24223728, -0.04287027,  0.15997045,  0.35014525],\n",
    "  ],\n",
    "  [\n",
    "    [-0.55857474, -0.39065825, -0.19198182,  0.02378408,  0.23735671],\n",
    "    [-0.27150199, -0.07088804,  0.13562939,  0.33099728,  0.50158768],\n",
    "    [-0.51014825, -0.30524429, -0.06755202,  0.17806392,  0.40333043]]])\n",
    "print('h error: ', rel_error(expected_h, h))"
   ]
  },
  {
   "cell_type": "markdown",
   "metadata": {},
   "source": [
    "### Vanilla RNN: backward"
   ]
  },
  {
   "cell_type": "code",
   "execution_count": 15,
   "metadata": {},
   "outputs": [
    {
     "name": "stdout",
     "output_type": "stream",
     "text": [
      "dx error:  1.531950838055161e-09\n",
      "dh0 error:  3.3746901505769888e-09\n",
      "dWx error:  7.427241147803513e-09\n",
      "dWh error:  1.3118350414505446e-07\n",
      "dbh error:  3.083335732377195e-10\n"
     ]
    }
   ],
   "source": [
    "np.random.seed(231)\n",
    "N, W, T, H = 2, 3, 10, 5\n",
    "\n",
    "x = np.random.randn(N, T, W)\n",
    "h0 = np.random.randn(N, H)\n",
    "Wx = np.random.randn(W, H)\n",
    "Wh = np.random.randn(H, H)\n",
    "bh = np.random.randn(H)\n",
    "\n",
    "out, cache = rnn_forward(x, h0, Wx, Wh, bh)\n",
    "dout = np.random.randn(*out.shape)\n",
    "dx, dh0, dWx, dWh, dbh = rnn_backward(dout, cache)\n",
    "\n",
    "f = lambda _: rnn_forward(x, h0, Wx, Wh, bh)[0]\n",
    "\n",
    "dx_num = eval_numerical_gradient_array(f, x, dout)\n",
    "dh0_num = eval_numerical_gradient_array(f, h0, dout)\n",
    "dWx_num = eval_numerical_gradient_array(f, Wx, dout)\n",
    "dWh_num = eval_numerical_gradient_array(f, Wh, dout)\n",
    "dbh_num = eval_numerical_gradient_array(f, bh, dout)\n",
    "\n",
    "print('dx error: ', rel_error(dx_num, dx))\n",
    "print('dh0 error: ', rel_error(dh0_num, dh0))\n",
    "print('dWx error: ', rel_error(dWx_num, dWx))\n",
    "print('dWh error: ', rel_error(dWh_num, dWh))\n",
    "print('dbh error: ', rel_error(dbh_num, dbh))"
   ]
  },
  {
   "cell_type": "markdown",
   "metadata": {},
   "source": [
    "### Vanilla RNN: full forward"
   ]
  },
  {
   "cell_type": "code",
   "execution_count": 127,
   "metadata": {},
   "outputs": [
    {
     "name": "stdout",
     "output_type": "stream",
     "text": [
      "33.28259599102279\n"
     ]
    }
   ],
   "source": [
    "N, T, W, H, C = 2, 10, 4, 5, 10\n",
    "\n",
    "# x = np.linspace(-0.1, 0.3, num=N*T*W).reshape(N, T, W)\n",
    "x = 0.001 * np.random.randn(N, T, W)\n",
    "h0 = np.random.randn(N, H)\n",
    "Wx = np.random.randn(W, H)\n",
    "Wh = np.random.randn(H, H)\n",
    "bh = np.random.randn(H, )\n",
    "Ws = np.random.randn(H, C)\n",
    "bs = np.random.randn(C, )\n",
    "y = np.random.randint(C, size=(N, T))\n",
    "# mask = (np.random.rand(N, T) > 0.5)\n",
    "\n",
    "def check_loss_full(p):\n",
    "    masks = (np.random.rand(N, T) <= p)\n",
    "    print(rnn_full_forward(x, h0, Wx, Wh, bh, Ws, bs, y, masks)[0])\n",
    "    \n",
    "check_loss_full(1.0)"
   ]
  },
  {
   "cell_type": "markdown",
   "metadata": {},
   "source": [
    "### Vanilla RNN: full backward"
   ]
  },
  {
   "cell_type": "code",
   "execution_count": 133,
   "metadata": {},
   "outputs": [
    {
     "name": "stdout",
     "output_type": "stream",
     "text": [
      "dx error:  8.09641964769203e-09\n",
      "dh0 error:  6.576838954460066e-09\n",
      "dWx error:  2.5828527134642695e-09\n",
      "dWh error:  7.524845585738639e-09\n",
      "dbh error:  5.437927927555287e-10\n",
      "dWs error:  5.080791166320229e-09\n",
      "dbs error:  7.841954754555052e-10\n"
     ]
    }
   ],
   "source": [
    "np.random.seed(231)\n",
    "N, T, W, H, C = 2, 10, 4, 5, 10\n",
    "\n",
    "x = np.random.randn(N, T, W)\n",
    "h0 = np.random.randn(N, H)\n",
    "Wx = np.random.randn(W, H)\n",
    "Wh = np.random.randn(H, H)\n",
    "bh = np.random.randn(H)\n",
    "Ws = np.random.randn(H, C)\n",
    "bs = np.random.randn(C, )\n",
    "y = np.random.randint(C, size=(N, T))\n",
    "masks = (np.random.rand(N, T) <= 1.0)\n",
    "\n",
    "out, _, cache = rnn_full_forward(x, h0, Wx, Wh, bh, Ws, bs, y, masks)\n",
    "\n",
    "dx, dh0, dWx, dWh, dbh, dWs, dbs = rnn_full_backward(cache)\n",
    "\n",
    "f = lambda _: rnn_full_forward(x, h0, Wx, Wh, bh, Ws, bs, y, masks)[0]\n",
    "\n",
    "dx_num = eval_numerical_gradient_array(f, x)\n",
    "dh0_num = eval_numerical_gradient_array(f, h0)\n",
    "dWx_num = eval_numerical_gradient_array(f, Wx)\n",
    "dWh_num = eval_numerical_gradient_array(f, Wh)\n",
    "dbh_num = eval_numerical_gradient_array(f, bh)\n",
    "dWs_num = eval_numerical_gradient_array(f, Ws)\n",
    "dbs_num = eval_numerical_gradient_array(f, bs)\n",
    "\n",
    "print('dx error: ', rel_error(dx_num, dx))\n",
    "print('dh0 error: ', rel_error(dh0_num, dh0))\n",
    "print('dWx error: ', rel_error(dWx_num, dWx))\n",
    "print('dWh error: ', rel_error(dWh_num, dWh))\n",
    "print('dbh error: ', rel_error(dbh_num, dbh))\n",
    "print('dWs error: ', rel_error(dWs_num, dWs))\n",
    "print('dbs error: ', rel_error(dbs_num, dbs))"
   ]
  },
  {
   "cell_type": "markdown",
   "metadata": {},
   "source": [
    "### Word embedding"
   ]
  },
  {
   "cell_type": "code",
   "execution_count": 157,
   "metadata": {},
   "outputs": [
    {
     "name": "stdout",
     "output_type": "stream",
     "text": [
      "out error:  1.0000000094736443e-08\n"
     ]
    }
   ],
   "source": [
    "N, T, V, D = 2, 4, 5, 3\n",
    "\n",
    "x = np.asarray([[0, 3, 1, 2], [2, 1, 0, 3]])\n",
    "W = np.linspace(0, 1, num=V*D).reshape(V, D)\n",
    "\n",
    "out, _ = word_embedding_forward(x, W)\n",
    "expected_out = np.asarray([\n",
    " [[ 0.,          0.07142857,  0.14285714],\n",
    "  [ 0.64285714,  0.71428571,  0.78571429],\n",
    "  [ 0.21428571,  0.28571429,  0.35714286],\n",
    "  [ 0.42857143,  0.5,         0.57142857]],\n",
    " [[ 0.42857143,  0.5,         0.57142857],\n",
    "  [ 0.21428571,  0.28571429,  0.35714286],\n",
    "  [ 0.,          0.07142857,  0.14285714],\n",
    "  [ 0.64285714,  0.71428571,  0.78571429]]])\n",
    "\n",
    "print('out error: ', rel_error(expected_out, out))"
   ]
  },
  {
   "cell_type": "code",
   "execution_count": 158,
   "metadata": {},
   "outputs": [
    {
     "name": "stdout",
     "output_type": "stream",
     "text": [
      "dW error:  3.2774595693100364e-12\n"
     ]
    }
   ],
   "source": [
    "np.random.seed(231)\n",
    "\n",
    "N, T, V, D = 50, 3, 5, 6\n",
    "x = np.random.randint(V, size=(N, T))\n",
    "W = np.random.randn(V, D)\n",
    "\n",
    "out, cache = word_embedding_forward(x, W)\n",
    "dout = np.random.randn(*out.shape)\n",
    "dW = word_embedding_backward(dout, cache)\n",
    "\n",
    "f = lambda _: word_embedding_forward(x, W)[0]\n",
    "dW_num = eval_numerical_gradient_array(f, W, dout)\n",
    "\n",
    "print('dW error: ', rel_error(dW, dW_num))"
   ]
  },
  {
   "cell_type": "markdown",
   "metadata": {},
   "source": [
    "### RNN for image captioning"
   ]
  },
  {
   "cell_type": "code",
   "execution_count": 167,
   "metadata": {},
   "outputs": [
    {
     "name": "stdout",
     "output_type": "stream",
     "text": [
      "loss:  9.832355910027388\n",
      "expected loss:  9.83235591003\n",
      "difference:  2.611244553918368e-12\n"
     ]
    }
   ],
   "source": [
    "N, D, W, H = 10, 20, 30, 40\n",
    "word_to_idx = {'<NULL>': 0, 'cat': 2, 'dog': 3}\n",
    "V = len(word_to_idx)\n",
    "T = 13\n",
    "\n",
    "model = CaptioningRNN(word_to_idx, input_dim=D, wordvec_dim=W, hidden_dim=H, cell_type='rnn', dtype=np.float64)\n",
    "\n",
    "for k, v in model.params.items():\n",
    "    model.params[k] = np.linspace(-1.4, 1.3, num=v.size).reshape(*v.shape)\n",
    "    \n",
    "features = np.linspace(-1.5, 0.3, num=(N*D)).reshape(N, D)\n",
    "captions = (np.arange(N*T) % V).reshape(N, T)\n",
    "\n",
    "loss, grad = model.loss(features, captions)\n",
    "expected_loss = 9.83235591003\n",
    "\n",
    "print('loss: ', loss)\n",
    "print('expected loss: ', expected_loss)\n",
    "print('difference: ', abs(loss - expected_loss))"
   ]
  },
  {
   "cell_type": "code",
   "execution_count": null,
   "metadata": {},
   "outputs": [],
   "source": []
  }
 ],
 "metadata": {
  "kernelspec": {
   "display_name": "Python 3",
   "language": "python",
   "name": "python3"
  },
  "language_info": {
   "codemirror_mode": {
    "name": "ipython",
    "version": 3
   },
   "file_extension": ".py",
   "mimetype": "text/x-python",
   "name": "python",
   "nbconvert_exporter": "python",
   "pygments_lexer": "ipython3",
   "version": "3.6.4"
  }
 },
 "nbformat": 4,
 "nbformat_minor": 2
}
